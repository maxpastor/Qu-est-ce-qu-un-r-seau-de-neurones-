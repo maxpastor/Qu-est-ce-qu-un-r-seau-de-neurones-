{
  "nbformat": 4,
  "nbformat_minor": 0,
  "metadata": {
    "colab": {
      "name": "Qu'est-ce qu'un réseau de neuronnes.ipynb",
      "version": "0.3.2",
      "provenance": [],
      "collapsed_sections": []
    },
    "kernelspec": {
      "name": "python3",
      "display_name": "Python 3"
    }
  },
  "cells": [
    {
      "metadata": {
        "id": "4r191It3Ss0Y",
        "colab_type": "code",
        "colab": {}
      },
      "cell_type": "code",
      "source": [
        "import tensorflow as tf\n",
        "import random\n",
        "import matplotlib.pyplot as plt\n",
        "import numpy as np"
      ],
      "execution_count": 0,
      "outputs": []
    },
    {
      "metadata": {
        "id": "dn0S8B6CS7_7",
        "colab_type": "text"
      },
      "cell_type": "markdown",
      "source": [
        "Hey ! \n",
        "Aujourd'hui nous allons voir ce qu'est un réseau de neuronne et comment l'implémenter avec tensorflow !\n",
        "\n",
        "Ce code est en lien avec cet article et cette vidéo ! Alors pour avoir des explications plus détaillées je vous invite à aller voir tout ça !"
      ]
    },
    {
      "metadata": {
        "id": "a25-o5ubS5Ut",
        "colab_type": "code",
        "colab": {
          "base_uri": "https://localhost:8080/",
          "height": 36
        },
        "outputId": "a972499b-1efd-4a3e-d614-1e8992793330"
      },
      "cell_type": "code",
      "source": [
        "#Un réseau de neuronne sert à faire des prédictions. Un cas particulier de prédictions est la regression.\n",
        "#Le but est d'apprendre une fonction mathématique pour ensuite prédire des valeurs qui n'étaient pas dans le jeu de données initial\n",
        "\n",
        "#Definissons une fonction affine aléatoire\n",
        "\n",
        "#f(x) = ax+b\n",
        "def affine(x, a, b):\n",
        "  return a *x +b\n",
        "\n",
        "#Testons pour x = 1 et a et b aléatoires \n",
        "a = random.randrange(0,100,1)\n",
        "b = random.randrange(0,10,1)\n",
        "print(\"f(1)=\",a,\" X \",\"1 + \",b,\" = \",affine(1, a, b))\n",
        "\n"
      ],
      "execution_count": 32,
      "outputs": [
        {
          "output_type": "stream",
          "text": [
            "f(1)= 86  X  1 +  5  =  91\n"
          ],
          "name": "stdout"
        }
      ]
    },
    {
      "metadata": {
        "id": "XKYfR5GYVn6z",
        "colab_type": "code",
        "colab": {
          "base_uri": "https://localhost:8080/",
          "height": 347
        },
        "outputId": "a98ec2ef-9d6f-4140-a4a9-2d7dd4a383e9"
      },
      "cell_type": "code",
      "source": [
        "#Nous allons maintenant générer un jeu de données contenant f(x) pour x allant de 0 à 100\n",
        "\n",
        "training_labels = []\n",
        "training_inputs = []\n",
        "\n",
        "for i in range(101):\n",
        "  training_labels.append([affine(i,a,b)])\n",
        "  training_inputs.append([i])\n",
        "\n",
        "#affichons cela !\n",
        "\n",
        "plt.scatter(training_inputs, training_labels)\n",
        "plt.show()\n",
        "training_inputs =np.asarray(training_inputs)\n",
        "training_labels = np.asanyarray(training_labels)"
      ],
      "execution_count": 33,
      "outputs": [
        {
          "output_type": "display_data",
          "data": {
            "image/png": "[encoded data removed]",
            "text/plain": [
              "<matplotlib.figure.Figure at 0x7f011c0594a8>"
            ]
          },
          "metadata": {
            "tags": []
          }
        }
      ]
    },
    {
      "metadata": {
        "id": "58wRthOQWeWT",
        "colab_type": "text"
      },
      "cell_type": "markdown",
      "source": [
        "Notre Objectif est désormais de créer un réseau de neuronne capable d'apprendre cette fonction afin de prédire la suite de la courbe !\n",
        "\n",
        "Mais qu'est-ce qu'un neuronne ? \n",
        "\n",
        "Un neuronne n'est rien d'autre qu'une simple opération * a x + b* ! Où  *a*  est appelé poids (weight) et écrit w et b est appelé biais (bias).\n",
        "\n",
        "Notre objectif et celui du réseau et d'apprendre au fur et a mesure quelles sont les valeures de w et b lui permettant de prédire les données de la manière la plus juste.\n"
      ]
    },
    {
      "metadata": {
        "id": "1hDFP07aWcJj",
        "colab_type": "code",
        "colab": {}
      },
      "cell_type": "code",
      "source": [
        "#définissons la structure de notre réseau en tensorflow\n",
        "\n",
        "#Etape 1 les inputs et les labels !\n",
        "#Les input sont les variables avec lesquel le réseau doit faire ses prédictions, ici x\n",
        "#Les labels sont les prédictions qu'il doit produire, ici f(x)\n",
        "\n",
        "x = tf.placeholder(tf.float32, [None,1]) #tf.placeholder est une case vide que l'on crée et qui fait comprendre à TF que l'on va lui remplir au fur et à mesure\n",
        "#None est la taille du \"batch\", soit le nombre d'input qu'on va lui passer par itération et 1 représente la taille de la liste qu'on lui transmet. Ici 1 car il n'y a qu'un nombre: x\n",
        "\n",
        "y = tf.placeholder(tf.float32, [None,1]) #Meme concept ici !\n",
        "\n",
        "#nous allons maintenant définir le poids et le biais\n",
        "\n",
        "weight = tf.Variable(0.) #tf.Variable dit a tensorflow que cette variable est la sienne, et qu'il doit l'optimiser , le tableau qui suit défini la taille de la matrice qu'est le poid. Soit ici la taille de l'entrée par la taille de sortie\n",
        "\n",
        "bias = tf.Variable(0.) #ici le biais n'est pas une matrice mais un vecteur car nous faisons une somme: w*x +b \n",
        "\n",
        "\n",
        "\n",
        "#maintenant spécifions à Tensorflow ce qu'il doit faire avec ces valeurs ! \n",
        "\n",
        "prediction = tf.nn.leaky_relu(tf.add(tf.multiply(weight,x),bias)) #add pour une addition et matmul pour une multiplication matricielle. en plus de cela nous utilisons une fonction d'activation(relu)\n",
        "\n",
        "#une fonction d'activation est comme un filtre que nous applicons au resultat de l'equation. ici le relu est un passe bas. C'est a dire que toutes les valeurs négatives seront transformées en 0\n",
        "\n"
      ],
      "execution_count": 0,
      "outputs": []
    },
    {
      "metadata": {
        "id": "AxM8DIdAZ17M",
        "colab_type": "text"
      },
      "cell_type": "markdown",
      "source": [
        "Nous avons maintenant notre réseau. Nous avons créé w et b. Nous avons spécifié la taille de X et de Y. \n",
        "\n",
        "Mais comment notre réseau va -t-il apprendre ? \n",
        "\n",
        "Pour cela il faut calculer son erreur. Son objectif est simple, avoir une erreur égale à 0.\n",
        "\n",
        "Pour calculer son erreur nous allons utiliser une formule très simple qui est le \"mean squared error\". \n",
        "\n",
        "En machine learning nous appelons celà le coût (cost ou loss)."
      ]
    },
    {
      "metadata": {
        "id": "FoGAGn1paaLR",
        "colab_type": "code",
        "colab": {}
      },
      "cell_type": "code",
      "source": [
        "cost = tf.reduce_mean(tf.losses.mean_squared_error(y, prediction))"
      ],
      "execution_count": 0,
      "outputs": []
    },
    {
      "metadata": {
        "id": "wews_2HRauTK",
        "colab_type": "text"
      },
      "cell_type": "markdown",
      "source": [
        "Bien. Nous avons calculé l'erreur. Il faut maintenant lui dire comment se corriger et optimiser w et b. \n",
        "\n",
        "Pour cela nous allons utilisé une methode d'optimisation appelée \"Gradien Descent\". Je vous invite à lire l'article pour plus de détails sur son fonctionnement ;) "
      ]
    },
    {
      "metadata": {
        "id": "oHXOibFlbESo",
        "colab_type": "code",
        "colab": {}
      },
      "cell_type": "code",
      "source": [
        "optimisation = tf.train.GradientDescentOptimizer(0.0001).minimize(cost) #ici 0.1 est le \"learning rate\", l'intensité des changements qu'il fera a chaque correction. On lui demande de minimiser le cout "
      ],
      "execution_count": 0,
      "outputs": []
    },
    {
      "metadata": {
        "id": "Tb9JS4JrbgsA",
        "colab_type": "text"
      },
      "cell_type": "markdown",
      "source": [
        "Maintenant que tout cela est défini nous n'avons plus qu'à l'entrainer !! "
      ]
    },
    {
      "metadata": {
        "id": "7bqWGIP0bl4K",
        "colab_type": "code",
        "colab": {
          "base_uri": "https://localhost:8080/",
          "height": 111
        },
        "outputId": "30018e59-bfd6-42d6-92c6-11e5ab9b95c6"
      },
      "cell_type": "code",
      "source": [
        "with tf.Session() as sess:\n",
        "  init = tf.initialize_all_variables()\n",
        "  sess.run(init)#on initialise les variables\n",
        "  \n",
        "  for i in range(40000):\n",
        "    \n",
        "    _,c,w,bi = sess.run([optimisation, cost,weight, bias], feed_dict={x:training_inputs, y: training_labels}) #on lui demander d'optimiser et de nous transmettre le cout. feed_dict sert à lui dire ce qu'on met dans les placeholder\n",
        "    if i% 10000 ==0:\n",
        "      print(\"f(x)= \",w,\"(\",a,\") * X + \",bi,\"(\",b,\") Cost = \",c)\n",
        "  print(\"f(x)= \",w,\"(\",a,\") * X + \",bi,\"(\",b,\") Cost = \",c)\n",
        "  #Maintenant nous allons tester le tout en demandant à notre réseau de prédire f(x) jusqu'a x=1000\n",
        "  input_test = []\n",
        "  for i in range(1000):\n",
        "    input_test.append([i])\n",
        "  input_test = np.asarray(input_test)\n",
        "\n",
        "  test_predictions = sess.run(prediction, feed_dict={x:input_test})\n",
        "\n",
        "  "
      ],
      "execution_count": 37,
      "outputs": [
        {
          "output_type": "stream",
          "text": [
            "f(x)=  11.533999 ( 86 ) * X +  0.1722 ( 5 ) Cost =  24819624.0\n",
            "f(x)=  86.033394 ( 86 ) * X +  2.7629282 ( 5 ) Cost =  1.269958\n",
            "f(x)=  86.02011 ( 86 ) * X +  3.6530056 ( 5 ) Cost =  0.46046078\n",
            "f(x)=  86.01211 ( 86 ) * X +  4.188883 ( 5 ) Cost =  0.1669672\n",
            "f(x)=  86.00729 ( 86 ) * X +  4.511493 ( 5 ) Cost =  0.060548365\n"
          ],
          "name": "stdout"
        }
      ]
    },
    {
      "metadata": {
        "id": "iSApzMDkWzyf",
        "colab_type": "code",
        "colab": {
          "base_uri": "https://localhost:8080/",
          "height": 347
        },
        "outputId": "4eb7d0ab-89f1-41a0-df12-50c70eed99a3"
      },
      "cell_type": "code",
      "source": [
        "plt.scatter(training_inputs,training_labels, color=\"blue\")\n",
        "plt.plot(input_test, test_predictions, color=\"red\")\n",
        "plt.show()"
      ],
      "execution_count": 38,
      "outputs": [
        {
          "output_type": "display_data",
          "data": {
            "image/png": "[encoded data removed]",
            "text/plain": [
              "<matplotlib.figure.Figure at 0x7f0118b67a58>"
            ]
          },
          "metadata": {
            "tags": []
          }
        }
      ]
    },
    {
      "metadata": {
        "id": "Blo7bR1deSB_",
        "colab_type": "text"
      },
      "cell_type": "markdown",
      "source": [
        "Ca semble plutot bien ! "
      ]
    }
  ]
}